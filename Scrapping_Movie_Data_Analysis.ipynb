{
 "cells": [
  {
   "cell_type": "code",
   "execution_count": 2,
   "id": "ee696c86",
   "metadata": {},
   "outputs": [],
   "source": [
    "import numpy as np\n",
    "import pandas as pd\n",
    "import matplotlib.pyplot as plt\n",
    "import seaborn as sns"
   ]
  },
  {
   "cell_type": "code",
   "execution_count": 3,
   "id": "690b2746",
   "metadata": {},
   "outputs": [],
   "source": [
    "movie=pd.read_csv('Scrapping_Moviedb_Data.csv')"
   ]
  },
  {
   "cell_type": "code",
   "execution_count": 4,
   "id": "0caba1b4",
   "metadata": {},
   "outputs": [
    {
     "data": {
      "text/html": [
       "<div>\n",
       "<style scoped>\n",
       "    .dataframe tbody tr th:only-of-type {\n",
       "        vertical-align: middle;\n",
       "    }\n",
       "\n",
       "    .dataframe tbody tr th {\n",
       "        vertical-align: top;\n",
       "    }\n",
       "\n",
       "    .dataframe thead th {\n",
       "        text-align: right;\n",
       "    }\n",
       "</style>\n",
       "<table border=\"1\" class=\"dataframe\">\n",
       "  <thead>\n",
       "    <tr style=\"text-align: right;\">\n",
       "      <th></th>\n",
       "      <th>Unnamed: 0</th>\n",
       "      <th>movie name</th>\n",
       "      <th>movie genre</th>\n",
       "      <th>movie date</th>\n",
       "      <th>movie_runtime</th>\n",
       "      <th>movie director</th>\n",
       "      <th>Url</th>\n",
       "    </tr>\n",
       "  </thead>\n",
       "  <tbody>\n",
       "    <tr>\n",
       "      <th>0</th>\n",
       "      <td>0</td>\n",
       "      <td>Sonic the Hedgehog 2\\n(2022)</td>\n",
       "      <td>Action, Science Fiction, Comedy, Family, Adven...</td>\n",
       "      <td>04/08/2022</td>\n",
       "      <td>2h 2m</td>\n",
       "      <td>Josh Miller</td>\n",
       "      <td>https://www.themoviedb.org//movie/675353</td>\n",
       "    </tr>\n",
       "    <tr>\n",
       "      <th>1</th>\n",
       "      <td>1</td>\n",
       "      <td>Uncharted\\n(2022)</td>\n",
       "      <td>Action, Adventure</td>\n",
       "      <td>02/18/2022</td>\n",
       "      <td>1h 56m</td>\n",
       "      <td>Ruben Fleischer</td>\n",
       "      <td>https://www.themoviedb.org//movie/335787</td>\n",
       "    </tr>\n",
       "    <tr>\n",
       "      <th>2</th>\n",
       "      <td>2</td>\n",
       "      <td>Doctor Strange in the Multiverse of Madness\\n(...</td>\n",
       "      <td>Fantasy, Action, Adventure</td>\n",
       "      <td>05/06/2022</td>\n",
       "      <td>2h 6m</td>\n",
       "      <td>Steve Ditko</td>\n",
       "      <td>https://www.themoviedb.org//movie/453395</td>\n",
       "    </tr>\n",
       "    <tr>\n",
       "      <th>3</th>\n",
       "      <td>3</td>\n",
       "      <td>The Bad Guys\\n(2022)</td>\n",
       "      <td>Animation, Comedy, Action, Family, Crime</td>\n",
       "      <td>04/22/2022</td>\n",
       "      <td>1h 40m</td>\n",
       "      <td>Pierre Perifel</td>\n",
       "      <td>https://www.themoviedb.org//movie/629542</td>\n",
       "    </tr>\n",
       "    <tr>\n",
       "      <th>4</th>\n",
       "      <td>4</td>\n",
       "      <td>The Batman\\n(2022)</td>\n",
       "      <td>Crime, Mystery, Thriller</td>\n",
       "      <td>03/04/2022</td>\n",
       "      <td>2h 56m</td>\n",
       "      <td>Matt Reeves</td>\n",
       "      <td>https://www.themoviedb.org//movie/414906</td>\n",
       "    </tr>\n",
       "    <tr>\n",
       "      <th>...</th>\n",
       "      <td>...</td>\n",
       "      <td>...</td>\n",
       "      <td>...</td>\n",
       "      <td>...</td>\n",
       "      <td>...</td>\n",
       "      <td>...</td>\n",
       "      <td>...</td>\n",
       "    </tr>\n",
       "    <tr>\n",
       "      <th>195</th>\n",
       "      <td>195</td>\n",
       "      <td>Toy Story\\n(1995)</td>\n",
       "      <td>Animation, Adventure, Family, Comedy</td>\n",
       "      <td>11/22/1995</td>\n",
       "      <td>1h 21m</td>\n",
       "      <td>John Lasseter</td>\n",
       "      <td>https://www.themoviedb.org//movie/862</td>\n",
       "    </tr>\n",
       "    <tr>\n",
       "      <th>196</th>\n",
       "      <td>196</td>\n",
       "      <td>Son\\n(2021)</td>\n",
       "      <td>Horror, Thriller</td>\n",
       "      <td>08/06/2021</td>\n",
       "      <td>1h 38m</td>\n",
       "      <td>Ivan Kavanagh</td>\n",
       "      <td>https://www.themoviedb.org//movie/754934</td>\n",
       "    </tr>\n",
       "    <tr>\n",
       "      <th>197</th>\n",
       "      <td>197</td>\n",
       "      <td>Charlie and the Chocolate Factory\\n(2005)</td>\n",
       "      <td>Adventure, Comedy, Family, Fantasy</td>\n",
       "      <td>09/01/2005</td>\n",
       "      <td>1h 55m</td>\n",
       "      <td>Roald Dahl</td>\n",
       "      <td>https://www.themoviedb.org//movie/118</td>\n",
       "    </tr>\n",
       "    <tr>\n",
       "      <th>198</th>\n",
       "      <td>198</td>\n",
       "      <td>The Last Duel\\n(2021)</td>\n",
       "      <td>Action, Drama, History</td>\n",
       "      <td>10/22/2021</td>\n",
       "      <td>2h 33m</td>\n",
       "      <td>Ridley Scott</td>\n",
       "      <td>https://www.themoviedb.org//movie/617653</td>\n",
       "    </tr>\n",
       "    <tr>\n",
       "      <th>199</th>\n",
       "      <td>199</td>\n",
       "      <td>Fly Me Away\\n(2021)</td>\n",
       "      <td>Comedy, Drama</td>\n",
       "      <td>05/19/2021</td>\n",
       "      <td>1h 33m</td>\n",
       "      <td>Christophe Barratier</td>\n",
       "      <td>https://www.themoviedb.org//movie/783558</td>\n",
       "    </tr>\n",
       "  </tbody>\n",
       "</table>\n",
       "<p>200 rows × 7 columns</p>\n",
       "</div>"
      ],
      "text/plain": [
       "     Unnamed: 0                                         movie name  \\\n",
       "0             0                       Sonic the Hedgehog 2\\n(2022)   \n",
       "1             1                                  Uncharted\\n(2022)   \n",
       "2             2  Doctor Strange in the Multiverse of Madness\\n(...   \n",
       "3             3                               The Bad Guys\\n(2022)   \n",
       "4             4                                 The Batman\\n(2022)   \n",
       "..          ...                                                ...   \n",
       "195         195                                  Toy Story\\n(1995)   \n",
       "196         196                                        Son\\n(2021)   \n",
       "197         197          Charlie and the Chocolate Factory\\n(2005)   \n",
       "198         198                              The Last Duel\\n(2021)   \n",
       "199         199                                Fly Me Away\\n(2021)   \n",
       "\n",
       "                                           movie genre  movie date  \\\n",
       "0    Action, Science Fiction, Comedy, Family, Adven...  04/08/2022   \n",
       "1                                    Action, Adventure  02/18/2022   \n",
       "2                           Fantasy, Action, Adventure  05/06/2022   \n",
       "3             Animation, Comedy, Action, Family, Crime  04/22/2022   \n",
       "4                             Crime, Mystery, Thriller  03/04/2022   \n",
       "..                                                 ...         ...   \n",
       "195               Animation, Adventure, Family, Comedy  11/22/1995   \n",
       "196                                   Horror, Thriller  08/06/2021   \n",
       "197                 Adventure, Comedy, Family, Fantasy  09/01/2005   \n",
       "198                             Action, Drama, History  10/22/2021   \n",
       "199                                      Comedy, Drama  05/19/2021   \n",
       "\n",
       "    movie_runtime        movie director  \\\n",
       "0           2h 2m           Josh Miller   \n",
       "1          1h 56m       Ruben Fleischer   \n",
       "2           2h 6m           Steve Ditko   \n",
       "3          1h 40m        Pierre Perifel   \n",
       "4          2h 56m           Matt Reeves   \n",
       "..            ...                   ...   \n",
       "195        1h 21m         John Lasseter   \n",
       "196        1h 38m         Ivan Kavanagh   \n",
       "197        1h 55m            Roald Dahl   \n",
       "198        2h 33m          Ridley Scott   \n",
       "199        1h 33m  Christophe Barratier   \n",
       "\n",
       "                                          Url  \n",
       "0    https://www.themoviedb.org//movie/675353  \n",
       "1    https://www.themoviedb.org//movie/335787  \n",
       "2    https://www.themoviedb.org//movie/453395  \n",
       "3    https://www.themoviedb.org//movie/629542  \n",
       "4    https://www.themoviedb.org//movie/414906  \n",
       "..                                        ...  \n",
       "195     https://www.themoviedb.org//movie/862  \n",
       "196  https://www.themoviedb.org//movie/754934  \n",
       "197     https://www.themoviedb.org//movie/118  \n",
       "198  https://www.themoviedb.org//movie/617653  \n",
       "199  https://www.themoviedb.org//movie/783558  \n",
       "\n",
       "[200 rows x 7 columns]"
      ]
     },
     "execution_count": 4,
     "metadata": {},
     "output_type": "execute_result"
    }
   ],
   "source": [
    "movie"
   ]
  },
  {
   "cell_type": "code",
   "execution_count": 5,
   "id": "87dd18fc",
   "metadata": {},
   "outputs": [],
   "source": [
    "movie_runtime=movie['movie_runtime']"
   ]
  },
  {
   "cell_type": "code",
   "execution_count": 6,
   "id": "4039fb04",
   "metadata": {},
   "outputs": [],
   "source": [
    "movie_date=movie['movie date']"
   ]
  },
  {
   "cell_type": "code",
   "execution_count": 7,
   "id": "6949bffd",
   "metadata": {},
   "outputs": [
    {
     "data": {
      "text/plain": [
       "Steve Ditko           3\n",
       "Joss Whedon           2\n",
       "Terry Rossio          2\n",
       "Akira Toriyama        2\n",
       "Castille Landon       2\n",
       "                     ..\n",
       "Pietro Loprieno       1\n",
       "Josh Miller           1\n",
       "Jota Linares          1\n",
       "William Reiss         1\n",
       "Genndy Tartakovsky    1\n",
       "Name: movie director, Length: 189, dtype: int64"
      ]
     },
     "execution_count": 7,
     "metadata": {},
     "output_type": "execute_result"
    }
   ],
   "source": [
    "movie['movie director'].value_counts()"
   ]
  },
  {
   "cell_type": "code",
   "execution_count": 8,
   "id": "e1bc6d33",
   "metadata": {},
   "outputs": [
    {
     "data": {
      "text/plain": [
       "Index(['Unnamed: 0', 'movie name', 'movie genre', 'movie date',\n",
       "       'movie_runtime', 'movie director', 'Url'],\n",
       "      dtype='object')"
      ]
     },
     "execution_count": 8,
     "metadata": {},
     "output_type": "execute_result"
    }
   ],
   "source": [
    "movie.columns"
   ]
  },
  {
   "cell_type": "code",
   "execution_count": 9,
   "id": "37037a73",
   "metadata": {},
   "outputs": [
    {
     "data": {
      "text/html": [
       "<div>\n",
       "<style scoped>\n",
       "    .dataframe tbody tr th:only-of-type {\n",
       "        vertical-align: middle;\n",
       "    }\n",
       "\n",
       "    .dataframe tbody tr th {\n",
       "        vertical-align: top;\n",
       "    }\n",
       "\n",
       "    .dataframe thead th {\n",
       "        text-align: right;\n",
       "    }\n",
       "</style>\n",
       "<table border=\"1\" class=\"dataframe\">\n",
       "  <thead>\n",
       "    <tr style=\"text-align: right;\">\n",
       "      <th></th>\n",
       "      <th>Unnamed: 0</th>\n",
       "      <th>movie name</th>\n",
       "      <th>movie genre</th>\n",
       "      <th>movie date</th>\n",
       "      <th>movie_runtime</th>\n",
       "      <th>movie director</th>\n",
       "      <th>Url</th>\n",
       "    </tr>\n",
       "  </thead>\n",
       "  <tbody>\n",
       "    <tr>\n",
       "      <th>0</th>\n",
       "      <td>0</td>\n",
       "      <td>Sonic the Hedgehog 2\\n(2022)</td>\n",
       "      <td>Action, Science Fiction, Comedy, Family, Adven...</td>\n",
       "      <td>04/08/2022</td>\n",
       "      <td>2h 2m</td>\n",
       "      <td>Josh Miller</td>\n",
       "      <td>https://www.themoviedb.org//movie/675353</td>\n",
       "    </tr>\n",
       "    <tr>\n",
       "      <th>1</th>\n",
       "      <td>1</td>\n",
       "      <td>Uncharted\\n(2022)</td>\n",
       "      <td>Action, Adventure</td>\n",
       "      <td>02/18/2022</td>\n",
       "      <td>1h 56m</td>\n",
       "      <td>Ruben Fleischer</td>\n",
       "      <td>https://www.themoviedb.org//movie/335787</td>\n",
       "    </tr>\n",
       "    <tr>\n",
       "      <th>2</th>\n",
       "      <td>2</td>\n",
       "      <td>Doctor Strange in the Multiverse of Madness\\n(...</td>\n",
       "      <td>Fantasy, Action, Adventure</td>\n",
       "      <td>05/06/2022</td>\n",
       "      <td>2h 6m</td>\n",
       "      <td>Steve Ditko</td>\n",
       "      <td>https://www.themoviedb.org//movie/453395</td>\n",
       "    </tr>\n",
       "    <tr>\n",
       "      <th>3</th>\n",
       "      <td>3</td>\n",
       "      <td>The Bad Guys\\n(2022)</td>\n",
       "      <td>Animation, Comedy, Action, Family, Crime</td>\n",
       "      <td>04/22/2022</td>\n",
       "      <td>1h 40m</td>\n",
       "      <td>Pierre Perifel</td>\n",
       "      <td>https://www.themoviedb.org//movie/629542</td>\n",
       "    </tr>\n",
       "    <tr>\n",
       "      <th>4</th>\n",
       "      <td>4</td>\n",
       "      <td>The Batman\\n(2022)</td>\n",
       "      <td>Crime, Mystery, Thriller</td>\n",
       "      <td>03/04/2022</td>\n",
       "      <td>2h 56m</td>\n",
       "      <td>Matt Reeves</td>\n",
       "      <td>https://www.themoviedb.org//movie/414906</td>\n",
       "    </tr>\n",
       "  </tbody>\n",
       "</table>\n",
       "</div>"
      ],
      "text/plain": [
       "   Unnamed: 0                                         movie name  \\\n",
       "0           0                       Sonic the Hedgehog 2\\n(2022)   \n",
       "1           1                                  Uncharted\\n(2022)   \n",
       "2           2  Doctor Strange in the Multiverse of Madness\\n(...   \n",
       "3           3                               The Bad Guys\\n(2022)   \n",
       "4           4                                 The Batman\\n(2022)   \n",
       "\n",
       "                                         movie genre  movie date  \\\n",
       "0  Action, Science Fiction, Comedy, Family, Adven...  04/08/2022   \n",
       "1                                  Action, Adventure  02/18/2022   \n",
       "2                         Fantasy, Action, Adventure  05/06/2022   \n",
       "3           Animation, Comedy, Action, Family, Crime  04/22/2022   \n",
       "4                           Crime, Mystery, Thriller  03/04/2022   \n",
       "\n",
       "  movie_runtime   movie director                                       Url  \n",
       "0         2h 2m      Josh Miller  https://www.themoviedb.org//movie/675353  \n",
       "1        1h 56m  Ruben Fleischer  https://www.themoviedb.org//movie/335787  \n",
       "2         2h 6m      Steve Ditko  https://www.themoviedb.org//movie/453395  \n",
       "3        1h 40m   Pierre Perifel  https://www.themoviedb.org//movie/629542  \n",
       "4        2h 56m      Matt Reeves  https://www.themoviedb.org//movie/414906  "
      ]
     },
     "execution_count": 9,
     "metadata": {},
     "output_type": "execute_result"
    }
   ],
   "source": [
    "movie.head()"
   ]
  },
  {
   "cell_type": "code",
   "execution_count": 11,
   "id": "628e46ed",
   "metadata": {},
   "outputs": [],
   "source": [
    "movie.drop('Unnamed: 0',axis=1,inplace=True)"
   ]
  },
  {
   "cell_type": "code",
   "execution_count": 12,
   "id": "8807f3c2",
   "metadata": {},
   "outputs": [
    {
     "data": {
      "text/html": [
       "<div>\n",
       "<style scoped>\n",
       "    .dataframe tbody tr th:only-of-type {\n",
       "        vertical-align: middle;\n",
       "    }\n",
       "\n",
       "    .dataframe tbody tr th {\n",
       "        vertical-align: top;\n",
       "    }\n",
       "\n",
       "    .dataframe thead th {\n",
       "        text-align: right;\n",
       "    }\n",
       "</style>\n",
       "<table border=\"1\" class=\"dataframe\">\n",
       "  <thead>\n",
       "    <tr style=\"text-align: right;\">\n",
       "      <th></th>\n",
       "      <th>movie name</th>\n",
       "      <th>movie genre</th>\n",
       "      <th>movie date</th>\n",
       "      <th>movie_runtime</th>\n",
       "      <th>movie director</th>\n",
       "      <th>Url</th>\n",
       "    </tr>\n",
       "  </thead>\n",
       "  <tbody>\n",
       "    <tr>\n",
       "      <th>0</th>\n",
       "      <td>Sonic the Hedgehog 2\\n(2022)</td>\n",
       "      <td>Action, Science Fiction, Comedy, Family, Adven...</td>\n",
       "      <td>04/08/2022</td>\n",
       "      <td>2h 2m</td>\n",
       "      <td>Josh Miller</td>\n",
       "      <td>https://www.themoviedb.org//movie/675353</td>\n",
       "    </tr>\n",
       "    <tr>\n",
       "      <th>1</th>\n",
       "      <td>Uncharted\\n(2022)</td>\n",
       "      <td>Action, Adventure</td>\n",
       "      <td>02/18/2022</td>\n",
       "      <td>1h 56m</td>\n",
       "      <td>Ruben Fleischer</td>\n",
       "      <td>https://www.themoviedb.org//movie/335787</td>\n",
       "    </tr>\n",
       "    <tr>\n",
       "      <th>2</th>\n",
       "      <td>Doctor Strange in the Multiverse of Madness\\n(...</td>\n",
       "      <td>Fantasy, Action, Adventure</td>\n",
       "      <td>05/06/2022</td>\n",
       "      <td>2h 6m</td>\n",
       "      <td>Steve Ditko</td>\n",
       "      <td>https://www.themoviedb.org//movie/453395</td>\n",
       "    </tr>\n",
       "    <tr>\n",
       "      <th>3</th>\n",
       "      <td>The Bad Guys\\n(2022)</td>\n",
       "      <td>Animation, Comedy, Action, Family, Crime</td>\n",
       "      <td>04/22/2022</td>\n",
       "      <td>1h 40m</td>\n",
       "      <td>Pierre Perifel</td>\n",
       "      <td>https://www.themoviedb.org//movie/629542</td>\n",
       "    </tr>\n",
       "    <tr>\n",
       "      <th>4</th>\n",
       "      <td>The Batman\\n(2022)</td>\n",
       "      <td>Crime, Mystery, Thriller</td>\n",
       "      <td>03/04/2022</td>\n",
       "      <td>2h 56m</td>\n",
       "      <td>Matt Reeves</td>\n",
       "      <td>https://www.themoviedb.org//movie/414906</td>\n",
       "    </tr>\n",
       "  </tbody>\n",
       "</table>\n",
       "</div>"
      ],
      "text/plain": [
       "                                          movie name  \\\n",
       "0                       Sonic the Hedgehog 2\\n(2022)   \n",
       "1                                  Uncharted\\n(2022)   \n",
       "2  Doctor Strange in the Multiverse of Madness\\n(...   \n",
       "3                               The Bad Guys\\n(2022)   \n",
       "4                                 The Batman\\n(2022)   \n",
       "\n",
       "                                         movie genre  movie date  \\\n",
       "0  Action, Science Fiction, Comedy, Family, Adven...  04/08/2022   \n",
       "1                                  Action, Adventure  02/18/2022   \n",
       "2                         Fantasy, Action, Adventure  05/06/2022   \n",
       "3           Animation, Comedy, Action, Family, Crime  04/22/2022   \n",
       "4                           Crime, Mystery, Thriller  03/04/2022   \n",
       "\n",
       "  movie_runtime   movie director                                       Url  \n",
       "0         2h 2m      Josh Miller  https://www.themoviedb.org//movie/675353  \n",
       "1        1h 56m  Ruben Fleischer  https://www.themoviedb.org//movie/335787  \n",
       "2         2h 6m      Steve Ditko  https://www.themoviedb.org//movie/453395  \n",
       "3        1h 40m   Pierre Perifel  https://www.themoviedb.org//movie/629542  \n",
       "4        2h 56m      Matt Reeves  https://www.themoviedb.org//movie/414906  "
      ]
     },
     "execution_count": 12,
     "metadata": {},
     "output_type": "execute_result"
    }
   ],
   "source": [
    "movie.head()"
   ]
  },
  {
   "cell_type": "code",
   "execution_count": 13,
   "id": "91ee26f8",
   "metadata": {},
   "outputs": [
    {
     "name": "stdout",
     "output_type": "stream",
     "text": [
      "<class 'pandas.core.frame.DataFrame'>\n",
      "RangeIndex: 200 entries, 0 to 199\n",
      "Data columns (total 6 columns):\n",
      " #   Column          Non-Null Count  Dtype \n",
      "---  ------          --------------  ----- \n",
      " 0   movie name      200 non-null    object\n",
      " 1   movie genre     200 non-null    object\n",
      " 2   movie date      200 non-null    object\n",
      " 3   movie_runtime   200 non-null    object\n",
      " 4   movie director  200 non-null    object\n",
      " 5   Url             200 non-null    object\n",
      "dtypes: object(6)\n",
      "memory usage: 9.5+ KB\n"
     ]
    }
   ],
   "source": [
    "movie.info()"
   ]
  },
  {
   "cell_type": "code",
   "execution_count": 14,
   "id": "66c428db",
   "metadata": {},
   "outputs": [
    {
     "data": {
      "text/html": [
       "<div>\n",
       "<style scoped>\n",
       "    .dataframe tbody tr th:only-of-type {\n",
       "        vertical-align: middle;\n",
       "    }\n",
       "\n",
       "    .dataframe tbody tr th {\n",
       "        vertical-align: top;\n",
       "    }\n",
       "\n",
       "    .dataframe thead th {\n",
       "        text-align: right;\n",
       "    }\n",
       "</style>\n",
       "<table border=\"1\" class=\"dataframe\">\n",
       "  <thead>\n",
       "    <tr style=\"text-align: right;\">\n",
       "      <th></th>\n",
       "      <th>movie name</th>\n",
       "      <th>movie genre</th>\n",
       "      <th>movie date</th>\n",
       "      <th>movie_runtime</th>\n",
       "      <th>movie director</th>\n",
       "      <th>Url</th>\n",
       "    </tr>\n",
       "  </thead>\n",
       "  <tbody>\n",
       "    <tr>\n",
       "      <th>count</th>\n",
       "      <td>200</td>\n",
       "      <td>200</td>\n",
       "      <td>200</td>\n",
       "      <td>200</td>\n",
       "      <td>200</td>\n",
       "      <td>200</td>\n",
       "    </tr>\n",
       "    <tr>\n",
       "      <th>unique</th>\n",
       "      <td>200</td>\n",
       "      <td>130</td>\n",
       "      <td>136</td>\n",
       "      <td>87</td>\n",
       "      <td>189</td>\n",
       "      <td>200</td>\n",
       "    </tr>\n",
       "    <tr>\n",
       "      <th>top</th>\n",
       "      <td>Doctor Strange in the Multiverse of Madness\\n(...</td>\n",
       "      <td>Horror</td>\n",
       "      <td>04/08/2022</td>\n",
       "      <td>1h 37m</td>\n",
       "      <td>Steve Ditko</td>\n",
       "      <td>https://www.themoviedb.org//movie/955971</td>\n",
       "    </tr>\n",
       "    <tr>\n",
       "      <th>freq</th>\n",
       "      <td>1</td>\n",
       "      <td>11</td>\n",
       "      <td>7</td>\n",
       "      <td>6</td>\n",
       "      <td>3</td>\n",
       "      <td>1</td>\n",
       "    </tr>\n",
       "  </tbody>\n",
       "</table>\n",
       "</div>"
      ],
      "text/plain": [
       "                                               movie name movie genre  \\\n",
       "count                                                 200         200   \n",
       "unique                                                200         130   \n",
       "top     Doctor Strange in the Multiverse of Madness\\n(...      Horror   \n",
       "freq                                                    1          11   \n",
       "\n",
       "        movie date movie_runtime movie director  \\\n",
       "count          200           200            200   \n",
       "unique         136            87            189   \n",
       "top     04/08/2022        1h 37m    Steve Ditko   \n",
       "freq             7             6              3   \n",
       "\n",
       "                                             Url  \n",
       "count                                        200  \n",
       "unique                                       200  \n",
       "top     https://www.themoviedb.org//movie/955971  \n",
       "freq                                           1  "
      ]
     },
     "execution_count": 14,
     "metadata": {},
     "output_type": "execute_result"
    }
   ],
   "source": [
    "movie.describe()"
   ]
  },
  {
   "cell_type": "code",
   "execution_count": 15,
   "id": "d3019665",
   "metadata": {},
   "outputs": [],
   "source": [
    "def date(x):\n",
    "    x=x[:11]\n",
    "    return(x)"
   ]
  },
  {
   "cell_type": "code",
   "execution_count": 17,
   "id": "472652d0",
   "metadata": {},
   "outputs": [],
   "source": [
    "movie['movie date']=pd.to_datetime(movie['movie date'].apply(date))"
   ]
  },
  {
   "cell_type": "code",
   "execution_count": 18,
   "id": "7cb38683",
   "metadata": {},
   "outputs": [
    {
     "data": {
      "text/html": [
       "<div>\n",
       "<style scoped>\n",
       "    .dataframe tbody tr th:only-of-type {\n",
       "        vertical-align: middle;\n",
       "    }\n",
       "\n",
       "    .dataframe tbody tr th {\n",
       "        vertical-align: top;\n",
       "    }\n",
       "\n",
       "    .dataframe thead th {\n",
       "        text-align: right;\n",
       "    }\n",
       "</style>\n",
       "<table border=\"1\" class=\"dataframe\">\n",
       "  <thead>\n",
       "    <tr style=\"text-align: right;\">\n",
       "      <th></th>\n",
       "      <th>movie name</th>\n",
       "      <th>movie genre</th>\n",
       "      <th>movie date</th>\n",
       "      <th>movie_runtime</th>\n",
       "      <th>movie director</th>\n",
       "      <th>Url</th>\n",
       "    </tr>\n",
       "  </thead>\n",
       "  <tbody>\n",
       "    <tr>\n",
       "      <th>0</th>\n",
       "      <td>Sonic the Hedgehog 2\\n(2022)</td>\n",
       "      <td>Action, Science Fiction, Comedy, Family, Adven...</td>\n",
       "      <td>2022-04-08</td>\n",
       "      <td>2h 2m</td>\n",
       "      <td>Josh Miller</td>\n",
       "      <td>https://www.themoviedb.org//movie/675353</td>\n",
       "    </tr>\n",
       "    <tr>\n",
       "      <th>1</th>\n",
       "      <td>Uncharted\\n(2022)</td>\n",
       "      <td>Action, Adventure</td>\n",
       "      <td>2022-02-18</td>\n",
       "      <td>1h 56m</td>\n",
       "      <td>Ruben Fleischer</td>\n",
       "      <td>https://www.themoviedb.org//movie/335787</td>\n",
       "    </tr>\n",
       "    <tr>\n",
       "      <th>2</th>\n",
       "      <td>Doctor Strange in the Multiverse of Madness\\n(...</td>\n",
       "      <td>Fantasy, Action, Adventure</td>\n",
       "      <td>2022-05-06</td>\n",
       "      <td>2h 6m</td>\n",
       "      <td>Steve Ditko</td>\n",
       "      <td>https://www.themoviedb.org//movie/453395</td>\n",
       "    </tr>\n",
       "    <tr>\n",
       "      <th>3</th>\n",
       "      <td>The Bad Guys\\n(2022)</td>\n",
       "      <td>Animation, Comedy, Action, Family, Crime</td>\n",
       "      <td>2022-04-22</td>\n",
       "      <td>1h 40m</td>\n",
       "      <td>Pierre Perifel</td>\n",
       "      <td>https://www.themoviedb.org//movie/629542</td>\n",
       "    </tr>\n",
       "    <tr>\n",
       "      <th>4</th>\n",
       "      <td>The Batman\\n(2022)</td>\n",
       "      <td>Crime, Mystery, Thriller</td>\n",
       "      <td>2022-03-04</td>\n",
       "      <td>2h 56m</td>\n",
       "      <td>Matt Reeves</td>\n",
       "      <td>https://www.themoviedb.org//movie/414906</td>\n",
       "    </tr>\n",
       "  </tbody>\n",
       "</table>\n",
       "</div>"
      ],
      "text/plain": [
       "                                          movie name  \\\n",
       "0                       Sonic the Hedgehog 2\\n(2022)   \n",
       "1                                  Uncharted\\n(2022)   \n",
       "2  Doctor Strange in the Multiverse of Madness\\n(...   \n",
       "3                               The Bad Guys\\n(2022)   \n",
       "4                                 The Batman\\n(2022)   \n",
       "\n",
       "                                         movie genre movie date movie_runtime  \\\n",
       "0  Action, Science Fiction, Comedy, Family, Adven... 2022-04-08         2h 2m   \n",
       "1                                  Action, Adventure 2022-02-18        1h 56m   \n",
       "2                         Fantasy, Action, Adventure 2022-05-06         2h 6m   \n",
       "3           Animation, Comedy, Action, Family, Crime 2022-04-22        1h 40m   \n",
       "4                           Crime, Mystery, Thriller 2022-03-04        2h 56m   \n",
       "\n",
       "    movie director                                       Url  \n",
       "0      Josh Miller  https://www.themoviedb.org//movie/675353  \n",
       "1  Ruben Fleischer  https://www.themoviedb.org//movie/335787  \n",
       "2      Steve Ditko  https://www.themoviedb.org//movie/453395  \n",
       "3   Pierre Perifel  https://www.themoviedb.org//movie/629542  \n",
       "4      Matt Reeves  https://www.themoviedb.org//movie/414906  "
      ]
     },
     "execution_count": 18,
     "metadata": {},
     "output_type": "execute_result"
    }
   ],
   "source": [
    "movie.head()"
   ]
  },
  {
   "cell_type": "code",
   "execution_count": 19,
   "id": "3ab7ab30",
   "metadata": {},
   "outputs": [],
   "source": [
    "def run(i):\n",
    "    i=i.replace('m','')\n",
    "    i=i.split()\n",
    "    if len(i)==1:\n",
    "        if (i[0][-1]=='h'):\n",
    "            return(int(i[0][0])*60)\n",
    "        elif(i[0]=='None'):\n",
    "            i[0]=0\n",
    "            return(i[0])\n",
    "        else:\n",
    "            return(i[0][0:])\n",
    "    else:\n",
    "        return((int(i[0][0]))*60 + int(i[1]))"
   ]
  },
  {
   "cell_type": "code",
   "execution_count": 20,
   "id": "4de71cbc",
   "metadata": {},
   "outputs": [],
   "source": [
    "movie['movie_runtime']=movie['movie_runtime'].apply(run).astype(int)"
   ]
  },
  {
   "cell_type": "code",
   "execution_count": 21,
   "id": "e26b55eb",
   "metadata": {},
   "outputs": [
    {
     "name": "stdout",
     "output_type": "stream",
     "text": [
      "<class 'pandas.core.frame.DataFrame'>\n",
      "RangeIndex: 200 entries, 0 to 199\n",
      "Data columns (total 6 columns):\n",
      " #   Column          Non-Null Count  Dtype         \n",
      "---  ------          --------------  -----         \n",
      " 0   movie name      200 non-null    object        \n",
      " 1   movie genre     200 non-null    object        \n",
      " 2   movie date      200 non-null    datetime64[ns]\n",
      " 3   movie_runtime   200 non-null    int32         \n",
      " 4   movie director  200 non-null    object        \n",
      " 5   Url             200 non-null    object        \n",
      "dtypes: datetime64[ns](1), int32(1), object(4)\n",
      "memory usage: 8.7+ KB\n"
     ]
    }
   ],
   "source": [
    "movie.info()"
   ]
  },
  {
   "cell_type": "code",
   "execution_count": 23,
   "id": "fc6ee99e",
   "metadata": {},
   "outputs": [],
   "source": [
    "movie=movie[movie['movie_runtime']>40]"
   ]
  },
  {
   "cell_type": "code",
   "execution_count": 24,
   "id": "efc341fb",
   "metadata": {},
   "outputs": [
    {
     "name": "stderr",
     "output_type": "stream",
     "text": [
      "C:\\Users\\Suraj\\anaconda3\\lib\\site-packages\\seaborn\\_decorators.py:36: FutureWarning: Pass the following variable as a keyword arg: x. From version 0.12, the only valid positional argument will be `data`, and passing other arguments without an explicit keyword will result in an error or misinterpretation.\n",
      "  warnings.warn(\n"
     ]
    },
    {
     "data": {
      "image/png": "[encoded data removed]",
      "text/plain": [
       "<Figure size 1440x720 with 1 Axes>"
      ]
     },
     "metadata": {
      "needs_background": "light"
     },
     "output_type": "display_data"
    }
   ],
   "source": [
    "plt.figure(figsize=(20,10))\n",
    "sns.countplot(movie[movie['movie date'].dt.year>1960]['movie date'].dt.year)\n",
    "plt.xticks(rotation=90)\n",
    "plt.title('Movies Released per year',fontsize=20)\n",
    "plt.xlabel('Release year',fontsize=15)\n",
    "plt.ylabel('Number of Movies',fontsize=15)\n",
    "plt.show()"
   ]
  },
  {
   "cell_type": "code",
   "execution_count": 26,
   "id": "e8cb3808",
   "metadata": {},
   "outputs": [
    {
     "name": "stderr",
     "output_type": "stream",
     "text": [
      "C:\\Users\\Suraj\\anaconda3\\lib\\site-packages\\seaborn\\_decorators.py:36: FutureWarning: Pass the following variable as a keyword arg: x. From version 0.12, the only valid positional argument will be `data`, and passing other arguments without an explicit keyword will result in an error or misinterpretation.\n",
      "  warnings.warn(\n"
     ]
    },
    {
     "data": {
      "image/png": "[encoded data removed]",
      "text/plain": [
       "<Figure size 1440x720 with 1 Axes>"
      ]
     },
     "metadata": {
      "needs_background": "light"
     },
     "output_type": "display_data"
    }
   ],
   "source": [
    "plt.figure(figsize=(20,10))\n",
    "sns.countplot(movie['movie date'].dt.month)\n",
    "plt.xticks(rotation=90)\n",
    "plt.title('Movies Released per Month',fontsize=20)\n",
    "plt.xlabel('Released Month',fontsize=15)\n",
    "plt.ylabel('Number of Movies',fontsize=15)\n",
    "plt.show()"
   ]
  },
  {
   "cell_type": "code",
   "execution_count": 28,
   "id": "d289d193",
   "metadata": {},
   "outputs": [
    {
     "data": {
      "image/png": "[encoded data removed]",
      "text/plain": [
       "<Figure size 432x288 with 1 Axes>"
      ]
     },
     "metadata": {
      "needs_background": "light"
     },
     "output_type": "display_data"
    }
   ],
   "source": [
    "fig=plt.figure()\n",
    "plt.hist(movie['movie_runtime'],linewidth=1,range=(40,200),edgecolor='black',color='red',bins=15)\n",
    "plt.title('Movie Runtimes',fontsize=20)\n",
    "plt.xlabel('Minutes',fontsize=15)\n",
    "plt.ylabel('Count',fontsize=15)\n",
    "\n",
    "plt.show()"
   ]
  },
  {
   "cell_type": "code",
   "execution_count": 29,
   "id": "6d95bb43",
   "metadata": {},
   "outputs": [],
   "source": [
    "grp_runt=movie['movie_runtime'].groupby(movie['movie date'].dt.year).describe()"
   ]
  },
  {
   "cell_type": "code",
   "execution_count": 30,
   "id": "fdfe4a9f",
   "metadata": {},
   "outputs": [],
   "source": [
    "avg_min=grp_runt['mean']-grp_runt['std']\n",
    "avg_max=grp_runt['mean']+grp_runt['std']"
   ]
  },
  {
   "cell_type": "code",
   "execution_count": 31,
   "id": "dac31ae4",
   "metadata": {},
   "outputs": [
    {
     "data": {
      "image/png": "[encoded data removed]",
      "text/plain": [
       "<Figure size 720x360 with 1 Axes>"
      ]
     },
     "metadata": {
      "needs_background": "light"
     },
     "output_type": "display_data"
    }
   ],
   "source": [
    "fig, x=plt.subplots(figsize=(10,5))\n",
    "x.plot(grp_runt['mean'],color='blue',)\n",
    "x.plot(avg_max,color='skyblue')\n",
    "x.plot(avg_min,color='skyblue')\n",
    "x.fill_between(grp_runt.index,avg_max,avg_min,color='skyblue')\n",
    "x.set_xlim(1970,2022)\n",
    "x.set_title('How Runtime of movies changed over the years',fontsize=20)\n",
    "x.set_xlabel('Release Year',fontsize=15)\n",
    "x.set_ylabel('Minutes',fontsize=15)\n",
    "plt.show()"
   ]
  },
  {
   "cell_type": "code",
   "execution_count": 32,
   "id": "c13dccfe",
   "metadata": {},
   "outputs": [
    {
     "data": {
      "text/html": [
       "<div>\n",
       "<style scoped>\n",
       "    .dataframe tbody tr th:only-of-type {\n",
       "        vertical-align: middle;\n",
       "    }\n",
       "\n",
       "    .dataframe tbody tr th {\n",
       "        vertical-align: top;\n",
       "    }\n",
       "\n",
       "    .dataframe thead th {\n",
       "        text-align: right;\n",
       "    }\n",
       "</style>\n",
       "<table border=\"1\" class=\"dataframe\">\n",
       "  <thead>\n",
       "    <tr style=\"text-align: right;\">\n",
       "      <th></th>\n",
       "      <th>movie name</th>\n",
       "      <th>movie genre</th>\n",
       "      <th>movie date</th>\n",
       "      <th>movie_runtime</th>\n",
       "      <th>movie director</th>\n",
       "      <th>Url</th>\n",
       "    </tr>\n",
       "  </thead>\n",
       "  <tbody>\n",
       "    <tr>\n",
       "      <th>120</th>\n",
       "      <td>Zack Snyder's Justice League\\n(2021)</td>\n",
       "      <td>Action, Adventure, Fantasy, Science Fiction</td>\n",
       "      <td>2021-03-18</td>\n",
       "      <td>242</td>\n",
       "      <td>Zack Snyder</td>\n",
       "      <td>https://www.themoviedb.org//movie/791373</td>\n",
       "    </tr>\n",
       "  </tbody>\n",
       "</table>\n",
       "</div>"
      ],
      "text/plain": [
       "                               movie name  \\\n",
       "120  Zack Snyder's Justice League\\n(2021)   \n",
       "\n",
       "                                     movie genre movie date  movie_runtime  \\\n",
       "120  Action, Adventure, Fantasy, Science Fiction 2021-03-18            242   \n",
       "\n",
       "    movie director                                       Url  \n",
       "120    Zack Snyder  https://www.themoviedb.org//movie/791373  "
      ]
     },
     "execution_count": 32,
     "metadata": {},
     "output_type": "execute_result"
    }
   ],
   "source": [
    "movie[movie['movie_runtime'].max()==movie['movie_runtime']]"
   ]
  },
  {
   "cell_type": "code",
   "execution_count": 33,
   "id": "8dcc0146",
   "metadata": {},
   "outputs": [
    {
     "data": {
      "text/html": [
       "<div>\n",
       "<style scoped>\n",
       "    .dataframe tbody tr th:only-of-type {\n",
       "        vertical-align: middle;\n",
       "    }\n",
       "\n",
       "    .dataframe tbody tr th {\n",
       "        vertical-align: top;\n",
       "    }\n",
       "\n",
       "    .dataframe thead th {\n",
       "        text-align: right;\n",
       "    }\n",
       "</style>\n",
       "<table border=\"1\" class=\"dataframe\">\n",
       "  <thead>\n",
       "    <tr style=\"text-align: right;\">\n",
       "      <th></th>\n",
       "      <th>movie name</th>\n",
       "      <th>movie genre</th>\n",
       "      <th>movie date</th>\n",
       "      <th>movie_runtime</th>\n",
       "      <th>movie director</th>\n",
       "      <th>Url</th>\n",
       "    </tr>\n",
       "  </thead>\n",
       "  <tbody>\n",
       "    <tr>\n",
       "      <th>137</th>\n",
       "      <td>Miraculous World: Shanghai – The Legend of Lad...</td>\n",
       "      <td>Animation, Comedy, Family, Adventure</td>\n",
       "      <td>2021-05-15</td>\n",
       "      <td>52</td>\n",
       "      <td>Thomas Astruc</td>\n",
       "      <td>https://www.themoviedb.org//movie/726684</td>\n",
       "    </tr>\n",
       "  </tbody>\n",
       "</table>\n",
       "</div>"
      ],
      "text/plain": [
       "                                            movie name  \\\n",
       "137  Miraculous World: Shanghai – The Legend of Lad...   \n",
       "\n",
       "                              movie genre movie date  movie_runtime  \\\n",
       "137  Animation, Comedy, Family, Adventure 2021-05-15             52   \n",
       "\n",
       "    movie director                                       Url  \n",
       "137  Thomas Astruc  https://www.themoviedb.org//movie/726684  "
      ]
     },
     "execution_count": 33,
     "metadata": {},
     "output_type": "execute_result"
    }
   ],
   "source": [
    "movie[movie['movie_runtime'].min()==movie['movie_runtime']]"
   ]
  },
  {
   "cell_type": "code",
   "execution_count": 37,
   "id": "8368b52d",
   "metadata": {},
   "outputs": [],
   "source": [
    "director=movie['movie director'].value_counts().head(15)"
   ]
  },
  {
   "cell_type": "code",
   "execution_count": 38,
   "id": "008556bc",
   "metadata": {},
   "outputs": [
    {
     "data": {
      "text/plain": [
       "Steve Ditko         3\n",
       "Joss Whedon         2\n",
       "Terry Rossio        2\n",
       "Castille Landon     2\n",
       "David Yates         2\n",
       "Thomas Astruc       2\n",
       "Chris Columbus      2\n",
       "Kohei Horikoshi     2\n",
       "Joe Russo           2\n",
       "Mattson Tomlin      1\n",
       "Tsuneo Kobayashi    1\n",
       "Mel Gibson          1\n",
       "Ruben Fleischer     1\n",
       "Cate Shortland      1\n",
       "Damien Power        1\n",
       "Name: movie director, dtype: int64"
      ]
     },
     "execution_count": 38,
     "metadata": {},
     "output_type": "execute_result"
    }
   ],
   "source": [
    "director"
   ]
  },
  {
   "cell_type": "code",
   "execution_count": 36,
   "id": "f973e20d",
   "metadata": {},
   "outputs": [
    {
     "data": {
      "image/png": "[encoded data removed]",
      "text/plain": [
       "<Figure size 1080x720 with 1 Axes>"
      ]
     },
     "metadata": {
      "needs_background": "light"
     },
     "output_type": "display_data"
    }
   ],
   "source": [
    "movie['movie director'].value_counts().head(15).plot.bar(figsize=(15,10),color='skyblue')\n",
    "plt.title('Top 15 Directors with most number of Movies',fontsize=20)\n",
    "plt.xlabel(\"Director name\",fontsize=15)\n",
    "plt.ylabel(\"number of movies\",fontsize=15)\n",
    "plt.show()"
   ]
  },
  {
   "cell_type": "code",
   "execution_count": 41,
   "id": "0657f43f",
   "metadata": {},
   "outputs": [],
   "source": [
    "movie=movie[movie['movie genre'].isnull()==False]"
   ]
  },
  {
   "cell_type": "code",
   "execution_count": 42,
   "id": "eb79aeae",
   "metadata": {},
   "outputs": [],
   "source": [
    "gn=['Action','Drama','Comedy','Thriller','Adventure','Horror','Animation','Family','Romance','Science Fiction','Fantasy',\n",
    "    'Crime','Mystery','History','Music','Documentary','War','TV Movie','Western']"
   ]
  },
  {
   "cell_type": "code",
   "execution_count": 43,
   "id": "2ad423b3",
   "metadata": {},
   "outputs": [],
   "source": [
    "gn_no=[]\n",
    "for i in gn:\n",
    "    gn_no.append(len(movie[movie['movie genre'].str.contains(i)]))"
   ]
  },
  {
   "cell_type": "code",
   "execution_count": 44,
   "id": "8a00b571",
   "metadata": {},
   "outputs": [
    {
     "data": {
      "image/png": "[encoded data removed]",
      "text/plain": [
       "<Figure size 1440x720 with 1 Axes>"
      ]
     },
     "metadata": {
      "needs_background": "light"
     },
     "output_type": "display_data"
    }
   ],
   "source": [
    "plt.figure(figsize=(20,10))\n",
    "sns.barplot(x=gn,y=gn_no)\n",
    "plt.title('No. of movies per genre',fontsize=20)\n",
    "plt.xlabel(\"Genre's\",fontsize=15)\n",
    "plt.ylabel(\"number of movies\",fontsize=15)\n",
    "plt.show()"
   ]
  },
  {
   "cell_type": "code",
   "execution_count": null,
   "id": "a4c34bb5",
   "metadata": {},
   "outputs": [],
   "source": []
  }
 ],
 "metadata": {
  "kernelspec": {
   "display_name": "Python 3",
   "language": "python",
   "name": "python3"
  },
  "language_info": {
   "codemirror_mode": {
    "name": "ipython",
    "version": 3
   },
   "file_extension": ".py",
   "mimetype": "text/x-python",
   "name": "python",
   "nbconvert_exporter": "python",
   "pygments_lexer": "ipython3",
   "version": "3.8.8"
  }
 },
 "nbformat": 4,
 "nbformat_minor": 5
}
